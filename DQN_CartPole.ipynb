{
 "cells": [
  {
   "cell_type": "code",
   "execution_count": 37,
   "metadata": {},
   "outputs": [],
   "source": [
    "import math\n",
    "import random\n",
    "import numpy as np\n",
    "import gym\n",
    "import matplotlib.pyplot as plt\n",
    "import matplotlib.style\n",
    "import seaborn as sns\n",
    "\n",
    "from keras.models import Sequential\n",
    "from keras import layers\n",
    "from keras  import optimizers\n",
    "from keras import losses\n",
    "\n",
    "matplotlib.style.use('ggplot')"
   ]
  },
  {
   "cell_type": "code",
   "execution_count": 23,
   "metadata": {},
   "outputs": [
    {
     "name": "stdout",
     "output_type": "stream",
     "text": [
      "\u001b[33mWARN: gym.spaces.Box autodetected dtype as <class 'numpy.float32'>. Please provide explicit dtype.\u001b[0m\n"
     ]
    }
   ],
   "source": [
    "env = gym.make('CartPole-v0')\n",
    "\n",
    "STATE_COUNT  = env.observation_space.shape[0]\n",
    "ACTION_COUNT = env.action_space.n"
   ]
  },
  {
   "cell_type": "code",
   "execution_count": 24,
   "metadata": {},
   "outputs": [],
   "source": [
    "# Brain\n",
    "\n",
    "BATCH_SIZE_BASELINE = 50  # calculate average reward over these many episodes\n",
    "H = 64                   # hidden layer size\n",
    "LEARNING_RATE=0.001\n",
    "\n",
    "class Brain:\n",
    "    def __init__(self):\n",
    "        self.params = {}\n",
    "        self.lr = LEARNING_RATE\n",
    "        self.model= self._create()\n",
    "        # self.model.load_weights(\"cartpole-basic.h5\")\n",
    "        \n",
    "    def _create(self):\n",
    "        \n",
    "        model = Sequential()\n",
    "        model.add(layers.Dense(units=64, activation='relu', input_dim=STATE_COUNT))\n",
    "        model.add(layers.Dense(units=ACTION_COUNT, activation='linear'))\n",
    "\n",
    "       \n",
    "        W1=model.get_weights()[0]\n",
    "        b1=model.get_weights()[1]\n",
    "        W2=model.get_weights()[2]\n",
    "        b2=model.get_weights()[3]\n",
    "        \n",
    "        self.params = dict(W1=W1, b1=b1, W2=W2, b2=b2)            \n",
    "        \n",
    "       \n",
    "        optimizer = optimizers.adam(lr=self.lr)\n",
    "        model.compile(loss='mse', optimizer=optimizer)\n",
    "        \n",
    "\n",
    "        return model\n",
    "\n",
    "    def train(self, x, y, epoch=1, verbose=0):\n",
    "        self.model.fit(x, y, batch_size=64,epochs=epoch, verbose=verbose)\n",
    "        \n",
    "\n",
    "    def predict(self, s):\n",
    "        return self.model.predict(s,batch_size=64)\n"
   ]
  },
  {
   "cell_type": "code",
   "execution_count": 25,
   "metadata": {},
   "outputs": [],
   "source": [
    "# Memory\n",
    "\n",
    "class Memory:   # stored as ( s, a, r, s_ )\n",
    "    samples = []\n",
    "\n",
    "    def __init__(self, capacity):\n",
    "        self.capacity = capacity\n",
    "\n",
    "    def add_sample(self, sample):\n",
    "        self.samples.append(sample)        \n",
    "\n",
    "        if len(self.samples) > self.capacity:\n",
    "            self.samples.pop(0)\n",
    "\n",
    "    def get_sample(self, n):\n",
    "        n = min(n, len(self.samples))\n",
    "        return random.sample(self.samples, n)"
   ]
  },
  {
   "cell_type": "code",
   "execution_count": 26,
   "metadata": {},
   "outputs": [],
   "source": [
    "# Agent Policy \n",
    "  \n",
    "MAX_EPSILON = 1\n",
    "MIN_EPSILON = 0.01 # stay a bit curious even when getting old\n",
    "\n",
    "class Policy:\n",
    "\n",
    "    epsilon = MAX_EPSILON\n",
    "    \n",
    "    def __init__(self):\n",
    "        pass\n",
    "    \n",
    "    def get_action(self,s,brain):\n",
    "        \n",
    "        if random.random() < self.epsilon:\n",
    "            return random.randint(0, ACTION_COUNT-1)\n",
    "        else:\n",
    "            s=np.reshape(s,newshape=(1,4))\n",
    "            return np.argmax(brain.predict(s)) \n",
    "    \n",
    "    def decay_epsilon(self,steps):\n",
    "        self.epsilon = MIN_EPSILON + (MAX_EPSILON - MIN_EPSILON) * math.exp(-LAMBDA * steps)\n",
    "        return self.epsilon\n",
    "        "
   ]
  },
  {
   "cell_type": "code",
   "execution_count": 27,
   "metadata": {},
   "outputs": [],
   "source": [
    "MEMORY_CAPACITY = 100000\n",
    "BATCH_SIZE = 64\n",
    "\n",
    "GAMMA = 0.99 # discount factor\n",
    "LAMBDA = 0.0001    # speed of decay\n",
    "\n",
    "\n",
    "\n",
    "class Agent:\n",
    "    steps = 0\n",
    "\n",
    "    def __init__(self):\n",
    "        self.brain = Brain()\n",
    "        self.memory = Memory(MEMORY_CAPACITY)\n",
    "        self.policy = Policy()\n",
    "        \n",
    "    def act(self, s):\n",
    "        action=self.policy.get_action(s,self.brain)\n",
    "        return action\n",
    "\n",
    "    def observe(self, sample):  # in (s, a, r, s_) format\n",
    "        self.memory.add_sample(sample)    \n",
    "        # slowly decrease Epsilon based on our eperience\n",
    "        self.steps += 1\n",
    "        self.policy.decay_epsilon(self.steps)\n",
    "\n",
    "    def replay(self):    \n",
    "        batch = self.memory.get_sample(BATCH_SIZE)\n",
    "        batchLen = len(batch)\n",
    "\n",
    "        no_state = np.zeros(STATE_COUNT)\n",
    "\n",
    "        \n",
    "        states = np.array([ o[0] for o in batch ], dtype=np.float32)\n",
    "        states_ = np.array([(no_state if o[3] is None else o[3]) for o in batch ], dtype=np.float32)\n",
    "\n",
    "        p = self.brain.predict(states)\n",
    "        p_ = self.brain.predict(states_)\n",
    "\n",
    "        x = np.zeros((batchLen, STATE_COUNT)).astype(np.float32)\n",
    "        y = np.zeros((batchLen, ACTION_COUNT)).astype(np.float32)\n",
    "        \n",
    "        for i in range(batchLen):\n",
    "            s, a, r, s_ = batch[i]\n",
    "            \n",
    "            t = p[i]\n",
    "            if s_ is None:\n",
    "                t[a] = r\n",
    "                \n",
    "            else:\n",
    "                t[a] = r + GAMMA * np.amax(p_[i])      # calculate the target: r+ Gamma*max Q(s',a')\n",
    "\n",
    "            x[i] = s\n",
    "            y[i] = t\n",
    "\n",
    "        self.brain.train(x, y)"
   ]
  },
  {
   "cell_type": "code",
   "execution_count": 28,
   "metadata": {},
   "outputs": [],
   "source": [
    "# Helper Functions\n",
    "\n",
    "def plot_weights(weights, figsize=(7,5)):\n",
    "    '''Heat map of weights to see which neurons play which role'''\n",
    "    sns.set(style=\"white\")\n",
    "    f, ax = plt.subplots(len(weights), figsize=figsize)\n",
    "    cmap = sns.diverging_palette(220, 10, as_cmap=True)\n",
    "\n",
    "    for i, data in enumerate(weights):\n",
    "        axi = ax if len(weights)==1 else ax[i]\n",
    "        if isinstance(data, tuple): \n",
    "            w, title = data\n",
    "            axi.set_title(title)\n",
    "        else:\n",
    "            w = np.asarray(data)\n",
    "        plot=sns.heatmap(w, cmap=cmap, square=True, center=True, #annot=True,\n",
    "                    linewidths=.5, cbar_kws={\"shrink\": .25}, ax=axi)\n",
    "        plot.get_figure().savefig(\"Weights.png\")"
   ]
  },
  {
   "cell_type": "code",
   "execution_count": 29,
   "metadata": {},
   "outputs": [],
   "source": [
    "def run(agent):\n",
    "    s = env.reset()\n",
    "    R = 0 \n",
    "    episode_length_counter=1\n",
    "  \n",
    "\n",
    "    while True:            \n",
    "        #env.render()\n",
    "\n",
    "\n",
    "        a = agent.act(s.astype(np.float32))\n",
    "        #print(a)\n",
    "\n",
    "        s_, r, done, info = env.step(a)\n",
    "        \n",
    "        episode_length_counter+=1\n",
    "\n",
    "        if done: # terminal state\n",
    "            s_ = None\n",
    "\n",
    "        agent.observe((s, a, r, s_))\n",
    "        agent.replay()            \n",
    "\n",
    "        s = s_\n",
    "        R += r\n",
    "        \n",
    "        if done:\n",
    "            return R,episode_length_counter"
   ]
  },
  {
   "cell_type": "code",
   "execution_count": 30,
   "metadata": {},
   "outputs": [
    {
     "name": "stdout",
     "output_type": "stream",
     "text": [
      "==========================================\n",
      "Episode:  100\n",
      "Rewards:  59.0\n",
      "Max reward so far:  106.0\n",
      "Mean Reward 30.504950495049506\n",
      "==========================================\n",
      "Episode:  200\n",
      "Rewards:  200.0\n",
      "Max reward so far:  200.0\n",
      "Mean Reward 76.2139303482587\n",
      "==========================================\n",
      "Episode:  300\n",
      "Rewards:  200.0\n",
      "Max reward so far:  200.0\n",
      "Mean Reward 117.33887043189368\n",
      "==========================================\n",
      "Episode:  400\n",
      "Rewards:  200.0\n",
      "Max reward so far:  200.0\n",
      "Mean Reward 137.8129675810474\n",
      "==========================================\n",
      "Episode:  500\n",
      "Rewards:  200.0\n",
      "Max reward so far:  200.0\n",
      "Mean Reward 150.07385229540918\n",
      "==========================================\n",
      "Episode:  600\n",
      "Rewards:  200.0\n",
      "Max reward so far:  200.0\n",
      "Mean Reward 158.26289517470883\n",
      "==========================================\n",
      "Episode:  700\n",
      "Rewards:  200.0\n",
      "Max reward so far:  200.0\n",
      "Mean Reward 161.86305278174038\n",
      "==========================================\n",
      "Episode:  800\n",
      "Rewards:  200.0\n",
      "Max reward so far:  200.0\n",
      "Mean Reward 161.6629213483146\n",
      "==========================================\n",
      "Episode:  900\n",
      "Rewards:  200.0\n",
      "Max reward so far:  200.0\n",
      "Mean Reward 161.49167591564927\n",
      "==========================================\n",
      "Episode:  1000\n",
      "Rewards:  200.0\n",
      "Max reward so far:  200.0\n",
      "Mean Reward 164.57442557442556\n"
     ]
    },
    {
     "data": {
      "image/png": "[encoded data removed]",
      "text/plain": [
       "<matplotlib.figure.Figure at 0x7f67ac4a3b00>"
      ]
     },
     "metadata": {},
     "output_type": "display_data"
    }
   ],
   "source": [
    "agent = Agent()\n",
    "episode_number = 0\n",
    "reward_sum = 0\n",
    "solved=1000\n",
    "number_of_episodes=1000\n",
    "G=[]\n",
    "mean_G_all=[]\n",
    "episodes_length=np.zeros((number_of_episodes,1))\n",
    "\n",
    "while episode_number<number_of_episodes:\n",
    "    episode_states=[]\n",
    "    episode_rewards=[]\n",
    "    episode_actions=[]\n",
    "    episode_length_counter=1\n",
    "    \n",
    "    R,episode_length_counter= run(agent)\n",
    "    \n",
    "    G.append(R)\n",
    "    reward_sum=sum(G)\n",
    "    \n",
    "    episodes_length[episode_number]=episode_length_counter\n",
    "\n",
    "    \n",
    "    episode_number += 1\n",
    "\n",
    "    if episode_number%100==0:\n",
    "                \n",
    "        print(\"==========================================\")\n",
    "        print(\"Episode: \", episode_number)\n",
    "        print(\"Rewards: \", R)\n",
    "        print(\"Max reward so far: \", max(G))\n",
    "        # Mean reward\n",
    "        mean_G = np.divide(sum(G), episode_number+1)\n",
    "        mean_G_all.append(mean_G)\n",
    "        print(\"Mean Reward\", mean_G)\n",
    "        \n",
    "        \n",
    "        if episode_number%solved==0:\n",
    "            plot_weights([(agent.brain.params['W1'], 'Episode %i $W_1$'%episode_number)], figsize=(14,5))\n",
    "        if mean_G > solved:\n",
    "            print('Task solved in %d episodes' % episode_number)\n",
    "            plot_weights([(agent.brain.params['W1'], 'Episode %i $W_1$'%episode_number)], figsize=(14,5))            \n",
    "            break\n",
    "        reward_sum = 0\n",
    "        \n",
    "agent.brain.model.save('Models/dqn.mod')"
   ]
  },
  {
   "cell_type": "code",
   "execution_count": 38,
   "metadata": {},
   "outputs": [
    {
     "data": {
      "image/png": "[encoded data removed]",
      "text/plain": [
       "<matplotlib.figure.Figure at 0x7f67a540c860>"
      ]
     },
     "metadata": {},
     "output_type": "display_data"
    }
   ],
   "source": [
    "plt.plot(G)\n",
    "plt.ylabel('Returns')\n",
    "plt.xlabel('Number of episodes')\n",
    "\n",
    "plt.savefig(\"plots/DQN_epVsG\")"
   ]
  },
  {
   "cell_type": "code",
   "execution_count": 39,
   "metadata": {},
   "outputs": [
    {
     "data": {
      "image/png": "[encoded data removed]",
      "text/plain": [
       "<matplotlib.figure.Figure at 0x7f67a53ea438>"
      ]
     },
     "metadata": {},
     "output_type": "display_data"
    }
   ],
   "source": [
    "plt.plot(mean_G_all)\n",
    "plt.ylabel('Average of Returns ')\n",
    "plt.xlabel('Number of episodes')\n",
    "plt.savefig(\"plots/DQN_epVsAVG\")"
   ]
  },
  {
   "cell_type": "code",
   "execution_count": 40,
   "metadata": {},
   "outputs": [
    {
     "data": {
      "image/png": "[encoded data removed]",
      "text/plain": [
       "<matplotlib.figure.Figure at 0x7f67a537eac8>"
      ]
     },
     "metadata": {},
     "output_type": "display_data"
    }
   ],
   "source": [
    "plt.plot(episodes_length)\n",
    "plt.ylabel('Episode Length')\n",
    "plt.xlabel('Number of Episodes')\n",
    "plt.savefig(\"plots/DQN_epVsepLength\")"
   ]
  },
  {
   "cell_type": "code",
   "execution_count": 34,
   "metadata": {},
   "outputs": [
    {
     "name": "stdout",
     "output_type": "stream",
     "text": [
      "58.93977331988986\n"
     ]
    }
   ],
   "source": [
    "variance=np.std(G)\n",
    "print(variance)"
   ]
  }
 ],
 "metadata": {
  "kernelspec": {
   "display_name": "Python 3",
   "language": "python",
   "name": "python3"
  },
  "language_info": {
   "codemirror_mode": {
    "name": "ipython",
    "version": 3
   },
   "file_extension": ".py",
   "mimetype": "text/x-python",
   "name": "python",
   "nbconvert_exporter": "python",
   "pygments_lexer": "ipython3",
   "version": "3.5.2"
  }
 },
 "nbformat": 4,
 "nbformat_minor": 2
}
